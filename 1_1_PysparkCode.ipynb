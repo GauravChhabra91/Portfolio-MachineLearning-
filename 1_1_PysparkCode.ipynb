{
  "nbformat": 4,
  "nbformat_minor": 0,
  "metadata": {
    "colab": {
      "name": "1.1 - PysparkCode.ipynb",
      "provenance": [],
      "collapsed_sections": [
        "Zha2gHEBxTyi",
        "yMxftNS5VvUe",
        "6QOIxZEAZ8Ck",
        "y1SzsOazZvPm",
        "aAYc64jNZp2t"
      ],
      "toc_visible": true,
      "authorship_tag": "ABX9TyN0zVFNT20PUrk64KJFdPsI",
      "include_colab_link": true
    },
    "kernelspec": {
      "name": "python3",
      "display_name": "Python 3"
    },
    "language_info": {
      "name": "python"
    }
  },
  "cells": [
    {
      "cell_type": "markdown",
      "metadata": {
        "id": "view-in-github",
        "colab_type": "text"
      },
      "source": [
        "<a href=\"https://colab.research.google.com/github/GauravChhabra91/Portfolio-MachineLearning-/blob/master/1_1_PysparkCode.ipynb\" target=\"_parent\"><img src=\"https://colab.research.google.com/assets/colab-badge.svg\" alt=\"Open In Colab\"/></a>"
      ]
    },
    {
      "cell_type": "markdown",
      "source": [
        "## Important/Tutorial Links"
      ],
      "metadata": {
        "id": "Zha2gHEBxTyi"
      }
    },
    {
      "cell_type": "code",
      "execution_count": 1,
      "metadata": {
        "colab": {
          "base_uri": "https://localhost:8080/"
        },
        "id": "Aoq_VMtWhpLk",
        "outputId": "4121141a-4dea-4e08-d436-b192f4d307e3"
      },
      "outputs": [
        {
          "output_type": "stream",
          "name": "stdout",
          "text": [
            "Important links\n",
            "\n",
            "https://www.analyticsvidhya.com/blog/2020/11/a-must-read-guide-on-how-to-work-with-pyspark-on-google-colab-for-data-scientists/\n",
            "https://stackoverflow.com/questions/55240940/error-while-installing-spark-on-google-colab\n",
            "\n"
          ]
        }
      ],
      "source": [
        "print(\"Important links\")\n",
        "print(\"\"\"\n",
        "https://www.analyticsvidhya.com/blog/2020/11/a-must-read-guide-on-how-to-work-with-pyspark-on-google-colab-for-data-scientists/\n",
        "https://stackoverflow.com/questions/55240940/error-while-installing-spark-on-google-colab\n",
        "\"\"\")"
      ]
    },
    {
      "cell_type": "code",
      "source": [
        "print(\"Setting Up Spark Context\")\n",
        "print('''\n",
        "https://colab.research.google.com/github/amdhacks/spark-in-google-collab/blob/master/Transformations_and_Actions_in_spark.ipynb#scrollTo=0xooHWiBT0Fr\n",
        "https://medium.com/ai-for-real/spark-with-google-colab-fd6881e6acd3\n",
        "https://www.google.com/search?q=sc.parallelize+in+google+colab&rlz=1C1RLNS_enIN950IN950&oq=sc.parallelize+in+goo&aqs=chrome.2.69i57j33i10i160l4.8073j0j7&sourceid=chrome&ie=UTF-8\n",
        "''')"
      ],
      "metadata": {
        "colab": {
          "base_uri": "https://localhost:8080/"
        },
        "id": "2iMSTVP-GR1m",
        "outputId": "c92cf1fe-3152-4ff5-8c89-43825b35cbe8"
      },
      "execution_count": 2,
      "outputs": [
        {
          "output_type": "stream",
          "name": "stdout",
          "text": [
            "Setting Up Spark Context\n",
            "\n",
            "https://colab.research.google.com/github/amdhacks/spark-in-google-collab/blob/master/Transformations_and_Actions_in_spark.ipynb#scrollTo=0xooHWiBT0Fr\n",
            "https://medium.com/ai-for-real/spark-with-google-colab-fd6881e6acd3\n",
            "https://www.google.com/search?q=sc.parallelize+in+google+colab&rlz=1C1RLNS_enIN950IN950&oq=sc.parallelize+in+goo&aqs=chrome.2.69i57j33i10i160l4.8073j0j7&sourceid=chrome&ie=UTF-8\n",
            "\n"
          ]
        }
      ]
    },
    {
      "cell_type": "markdown",
      "source": [
        "## Setting Up Pyspark in Google Colabe"
      ],
      "metadata": {
        "id": "VJ9KPlcqxIP4"
      }
    },
    {
      "cell_type": "code",
      "source": [
        "from google.colab import drive\n",
        "drive.mount('/content/drive')"
      ],
      "metadata": {
        "colab": {
          "base_uri": "https://localhost:8080/"
        },
        "id": "IAWfuAwkko_3",
        "outputId": "af50a5c5-6606-4f18-e094-e5e684312622"
      },
      "execution_count": 3,
      "outputs": [
        {
          "output_type": "stream",
          "name": "stdout",
          "text": [
            "Mounted at /content/drive\n"
          ]
        }
      ]
    },
    {
      "cell_type": "code",
      "source": [
        "# Pre-requisite for Spark is installing Java. We need to have Java installed before setting-up Spark in colab.\n",
        "!apt-get install openjdk-8-jdk-headless -qq > /dev/null\n",
        "\n",
        "# Downloading The Hadoop\n",
        "!wget -q https://archive.apache.org/dist/spark/spark-3.0.0/spark-3.0.0-bin-hadoop3.2.tgz\n",
        "\n",
        "# unzip the spark file to the current folder\n",
        "!tar xf spark-3.0.0-bin-hadoop3.2.tgz"
      ],
      "metadata": {
        "id": "zCZZxSuTjmxO"
      },
      "execution_count": 4,
      "outputs": []
    },
    {
      "cell_type": "code",
      "source": [
        "# set your spark folder to your system path environment. \n",
        "import os\n",
        "os.environ[\"JAVA_HOME\"] = \"/usr/lib/jvm/java-8-openjdk-amd64\"\n",
        "os.environ[\"SPARK_HOME\"] = \"/content/spark-3.0.0-bin-hadoop3.2\""
      ],
      "metadata": {
        "id": "2Xlr6c3vi-k9"
      },
      "execution_count": 5,
      "outputs": []
    },
    {
      "cell_type": "code",
      "source": [
        "# install findspark using pip\n",
        "!pip install -q findspark"
      ],
      "metadata": {
        "id": "gEHqUlH8jb07"
      },
      "execution_count": 6,
      "outputs": []
    },
    {
      "cell_type": "code",
      "source": [
        "!pip install pyspark"
      ],
      "metadata": {
        "id": "nuOgqE8tka4k",
        "colab": {
          "base_uri": "https://localhost:8080/"
        },
        "outputId": "50740bb9-3ccf-422a-fd82-2192205df313"
      },
      "execution_count": 7,
      "outputs": [
        {
          "output_type": "stream",
          "name": "stdout",
          "text": [
            "Collecting pyspark\n",
            "  Downloading pyspark-3.2.1.tar.gz (281.4 MB)\n",
            "\u001b[K     |████████████████████████████████| 281.4 MB 34 kB/s \n",
            "\u001b[?25hCollecting py4j==0.10.9.3\n",
            "  Downloading py4j-0.10.9.3-py2.py3-none-any.whl (198 kB)\n",
            "\u001b[K     |████████████████████████████████| 198 kB 35.7 MB/s \n",
            "\u001b[?25hBuilding wheels for collected packages: pyspark\n",
            "  Building wheel for pyspark (setup.py) ... \u001b[?25l\u001b[?25hdone\n",
            "  Created wheel for pyspark: filename=pyspark-3.2.1-py2.py3-none-any.whl size=281853642 sha256=270535e007811b06d6719248b92aef96ee65a3f882ac66712aaaf4bac97924b5\n",
            "  Stored in directory: /root/.cache/pip/wheels/9f/f5/07/7cd8017084dce4e93e84e92efd1e1d5334db05f2e83bcef74f\n",
            "Successfully built pyspark\n",
            "Installing collected packages: py4j, pyspark\n",
            "Successfully installed py4j-0.10.9.3 pyspark-3.2.1\n"
          ]
        }
      ]
    },
    {
      "cell_type": "code",
      "source": [
        "import findspark\n",
        "findspark.init()"
      ],
      "metadata": {
        "id": "5fi0s3ARjgIE"
      },
      "execution_count": 8,
      "outputs": []
    },
    {
      "cell_type": "code",
      "source": [
        "findspark.find()"
      ],
      "metadata": {
        "colab": {
          "base_uri": "https://localhost:8080/",
          "height": 36
        },
        "id": "uyIaU5bUlDaF",
        "outputId": "24ee6623-7d9c-49d7-ec96-32f843f7eced"
      },
      "execution_count": 9,
      "outputs": [
        {
          "output_type": "execute_result",
          "data": {
            "application/vnd.google.colaboratory.intrinsic+json": {
              "type": "string"
            },
            "text/plain": [
              "'/content/spark-3.0.0-bin-hadoop3.2'"
            ]
          },
          "metadata": {},
          "execution_count": 9
        }
      ]
    },
    {
      "cell_type": "markdown",
      "source": [
        "## Creating Pyspark Session"
      ],
      "metadata": {
        "id": "oyqwBg3vxPhi"
      }
    },
    {
      "cell_type": "code",
      "source": [
        "from pyspark.sql import SparkSession\n",
        "\n",
        "spark = SparkSession.builder\\\n",
        "        .master(\"local[*]\")\\\n",
        "        .appName(\"MyAppGoogleColab\")\\\n",
        "        .config('spark.ui.port', '4050')\\\n",
        "        .getOrCreate()"
      ],
      "metadata": {
        "id": "6BetMcCilEzl"
      },
      "execution_count": 10,
      "outputs": []
    },
    {
      "cell_type": "code",
      "source": [
        "#Creating spark context-Its like connecting to spark cluster\n",
        "import pyspark\n",
        "from pyspark import SparkConf \n",
        "from pyspark.context import SparkContext \n",
        "\n",
        "sc = SparkContext.getOrCreate(SparkConf().setMaster(\"local[*]\"))"
      ],
      "metadata": {
        "id": "Oz1Z9HJ_F-O9"
      },
      "execution_count": 11,
      "outputs": []
    },
    {
      "cell_type": "code",
      "source": [
        "spark"
      ],
      "metadata": {
        "colab": {
          "base_uri": "https://localhost:8080/",
          "height": 218
        },
        "id": "YnDF13R4ldFt",
        "outputId": "1dc8f74e-57dd-40e2-a79b-3394fd0b3951"
      },
      "execution_count": 12,
      "outputs": [
        {
          "output_type": "execute_result",
          "data": {
            "text/html": [
              "\n",
              "            <div>\n",
              "                <p><b>SparkSession - in-memory</b></p>\n",
              "                \n",
              "        <div>\n",
              "            <p><b>SparkContext</b></p>\n",
              "\n",
              "            <p><a href=\"http://543742ecf941:4050\">Spark UI</a></p>\n",
              "\n",
              "            <dl>\n",
              "              <dt>Version</dt>\n",
              "                <dd><code>v3.0.0</code></dd>\n",
              "              <dt>Master</dt>\n",
              "                <dd><code>local[*]</code></dd>\n",
              "              <dt>AppName</dt>\n",
              "                <dd><code>MyAppGoogleColab</code></dd>\n",
              "            </dl>\n",
              "        </div>\n",
              "        \n",
              "            </div>\n",
              "        "
            ],
            "text/plain": [
              "<pyspark.sql.session.SparkSession at 0x7fa56b5fa390>"
            ]
          },
          "metadata": {},
          "execution_count": 12
        }
      ]
    },
    {
      "cell_type": "code",
      "source": [
        "sc"
      ],
      "metadata": {
        "colab": {
          "base_uri": "https://localhost:8080/",
          "height": 196
        },
        "id": "VFofnLqHGE99",
        "outputId": "79be9d17-9b37-4f83-c03d-a6b66526f56d"
      },
      "execution_count": 13,
      "outputs": [
        {
          "output_type": "execute_result",
          "data": {
            "text/html": [
              "\n",
              "        <div>\n",
              "            <p><b>SparkContext</b></p>\n",
              "\n",
              "            <p><a href=\"http://543742ecf941:4050\">Spark UI</a></p>\n",
              "\n",
              "            <dl>\n",
              "              <dt>Version</dt>\n",
              "                <dd><code>v3.0.0</code></dd>\n",
              "              <dt>Master</dt>\n",
              "                <dd><code>local[*]</code></dd>\n",
              "              <dt>AppName</dt>\n",
              "                <dd><code>MyAppGoogleColab</code></dd>\n",
              "            </dl>\n",
              "        </div>\n",
              "        "
            ],
            "text/plain": [
              "<SparkContext master=local[*] appName=MyAppGoogleColab>"
            ]
          },
          "metadata": {},
          "execution_count": 13
        }
      ]
    },
    {
      "cell_type": "markdown",
      "source": [
        "# Spark RDD"
      ],
      "metadata": {
        "id": "0PlESWSvMZlO"
      }
    },
    {
      "cell_type": "markdown",
      "source": [
        "## Creating RDD"
      ],
      "metadata": {
        "id": "jTIDqRjGZRvP"
      }
    },
    {
      "cell_type": "code",
      "source": [
        "data = [1, 2, 3, 4, 5]\n",
        "rdd = sc.parallelize(data)\n",
        "rdd.collect()"
      ],
      "metadata": {
        "colab": {
          "base_uri": "https://localhost:8080/"
        },
        "id": "cwjysqneZWwc",
        "outputId": "6de9e36a-b9b0-49bb-b280-b067dcba73bc"
      },
      "execution_count": 14,
      "outputs": [
        {
          "output_type": "execute_result",
          "data": {
            "text/plain": [
              "[1, 2, 3, 4, 5]"
            ]
          },
          "metadata": {},
          "execution_count": 14
        }
      ]
    },
    {
      "cell_type": "code",
      "source": [
        "rdd = sc.textFile(\"/content/drive/MyDrive/Learning/Analytics Notes/L - PySpark/PyspakDataFolderDoNotDelete/textfile.txt\")\n",
        "rdd.take(4)"
      ],
      "metadata": {
        "colab": {
          "base_uri": "https://localhost:8080/"
        },
        "id": "k7K0h1j9GxBm",
        "outputId": "41f04e53-f2bf-4bd6-b39b-fa9446425795"
      },
      "execution_count": 15,
      "outputs": [
        {
          "output_type": "execute_result",
          "data": {
            "text/plain": [
              "['Return all the elements of the dataset as an array at the driver program. This is usually useful after a filter or other operation that returns a sufficiently small subset of the data.',\n",
              " 'Aggregate the elements of the dataset using a function func (which takes two arguments and returns one).',\n",
              " 'The function should be commutative and associative so that it can be computed correctly in parallel.',\n",
              " 'Another flatmap example.So it creates output like map function but it flattens the output in a list']"
            ]
          },
          "metadata": {},
          "execution_count": 15
        }
      ]
    },
    {
      "cell_type": "markdown",
      "source": [
        "## Functions"
      ],
      "metadata": {
        "id": "HVo_o117HCuJ"
      }
    },
    {
      "cell_type": "markdown",
      "source": [
        "### Transformations & Actions"
      ],
      "metadata": {
        "id": "yMxftNS5VvUe"
      }
    },
    {
      "cell_type": "code",
      "source": [
        "#Another flatmap example.So it creates output like map function but it flattens the output in a list\n",
        "sc.parallelize([3,4,5]).flatMap(lambda x: [x, x*x]).collect()"
      ],
      "metadata": {
        "colab": {
          "base_uri": "https://localhost:8080/"
        },
        "id": "kPKETwR-HMDo",
        "outputId": "f3f41e4c-d40f-4a1f-d5cd-4e56a6df844b"
      },
      "execution_count": 16,
      "outputs": [
        {
          "output_type": "execute_result",
          "data": {
            "text/plain": [
              "[3, 9, 4, 16, 5, 25]"
            ]
          },
          "metadata": {},
          "execution_count": 16
        }
      ]
    },
    {
      "cell_type": "code",
      "source": [
        "#flatmap function. Takes input as key value pair and creates one flattended list of output results\n",
        "sc.parallelize([3,4,5]).flatMap(lambda x: range(1,x)).collect()"
      ],
      "metadata": {
        "colab": {
          "base_uri": "https://localhost:8080/"
        },
        "id": "9zK1MTWkHMjk",
        "outputId": "d9dfa604-a5c3-4ab0-cef6-f519e69d0925"
      },
      "execution_count": 17,
      "outputs": [
        {
          "output_type": "execute_result",
          "data": {
            "text/plain": [
              "[1, 2, 1, 2, 3, 1, 2, 3, 4]"
            ]
          },
          "metadata": {},
          "execution_count": 17
        }
      ]
    },
    {
      "cell_type": "code",
      "source": [
        "#map function\n",
        "sc.parallelize([3,4,5]).map(lambda x: range(1,x)).collect()"
      ],
      "metadata": {
        "colab": {
          "base_uri": "https://localhost:8080/"
        },
        "id": "U0uaQDkmHOGh",
        "outputId": "487a9cbc-bf8a-4e2f-e7df-fedfcb14900d"
      },
      "execution_count": 18,
      "outputs": [
        {
          "output_type": "execute_result",
          "data": {
            "text/plain": [
              "[range(1, 3), range(1, 4), range(1, 5)]"
            ]
          },
          "metadata": {},
          "execution_count": 18
        }
      ]
    },
    {
      "cell_type": "code",
      "source": [
        "def func(lines):\n",
        "  lines = lines.lower()\n",
        "  lines = lines.split()\n",
        "  return lines"
      ],
      "metadata": {
        "id": "IrQCkAyMGxER"
      },
      "execution_count": 19,
      "outputs": []
    },
    {
      "cell_type": "code",
      "source": [
        "# Map Function\n",
        "rdd1 = rdd.map(func)\n",
        "rdd1.take(1)"
      ],
      "metadata": {
        "colab": {
          "base_uri": "https://localhost:8080/"
        },
        "id": "5VD0nloXGxGm",
        "outputId": "6c77fdb5-24fe-47fe-ae88-2cc2fc616bae"
      },
      "execution_count": 20,
      "outputs": [
        {
          "output_type": "execute_result",
          "data": {
            "text/plain": [
              "[['return',\n",
              "  'all',\n",
              "  'the',\n",
              "  'elements',\n",
              "  'of',\n",
              "  'the',\n",
              "  'dataset',\n",
              "  'as',\n",
              "  'an',\n",
              "  'array',\n",
              "  'at',\n",
              "  'the',\n",
              "  'driver',\n",
              "  'program.',\n",
              "  'this',\n",
              "  'is',\n",
              "  'usually',\n",
              "  'useful',\n",
              "  'after',\n",
              "  'a',\n",
              "  'filter',\n",
              "  'or',\n",
              "  'other',\n",
              "  'operation',\n",
              "  'that',\n",
              "  'returns',\n",
              "  'a',\n",
              "  'sufficiently',\n",
              "  'small',\n",
              "  'subset',\n",
              "  'of',\n",
              "  'the',\n",
              "  'data.']]"
            ]
          },
          "metadata": {},
          "execution_count": 20
        }
      ]
    },
    {
      "cell_type": "code",
      "source": [
        "# Flat Function\n",
        "rdd2 = rdd.flatMap(func)\n",
        "rdd2.take(5)"
      ],
      "metadata": {
        "colab": {
          "base_uri": "https://localhost:8080/"
        },
        "id": "4WOTiWkEGxIq",
        "outputId": "b0086ed4-743d-4773-d3e8-11c08cd93b4a"
      },
      "execution_count": 21,
      "outputs": [
        {
          "output_type": "execute_result",
          "data": {
            "text/plain": [
              "['return', 'all', 'the', 'elements', 'of']"
            ]
          },
          "metadata": {},
          "execution_count": 21
        }
      ]
    },
    {
      "cell_type": "code",
      "source": [
        "# Removing stop words from the data - With Lambda Function\n",
        "stopwords = ['all', 'of', 'the', 'as', 'an', 'at']\n",
        "rdd3 = rdd2.filter(lambda x: x not in stopwords)\n",
        "rdd3.take(5)"
      ],
      "metadata": {
        "colab": {
          "base_uri": "https://localhost:8080/"
        },
        "id": "-nBRklAJGxK7",
        "outputId": "7fbbe2a1-c563-4b6b-f354-e289f3fd8d4f"
      },
      "execution_count": 22,
      "outputs": [
        {
          "output_type": "execute_result",
          "data": {
            "text/plain": [
              "['return', 'elements', 'dataset', 'array', 'driver']"
            ]
          },
          "metadata": {},
          "execution_count": 22
        }
      ]
    },
    {
      "cell_type": "code",
      "source": [
        "# Removing stop words from the data - With List Comprehensions\n",
        "rdd4 = sc.parallelize([k for k in rdd2.collect() if k not in stopwords])\n",
        "rdd4.take(5)"
      ],
      "metadata": {
        "colab": {
          "base_uri": "https://localhost:8080/"
        },
        "id": "TzgTeco4XMyK",
        "outputId": "e8d503e6-bb6c-4cf5-812f-861edc2a1cdf"
      },
      "execution_count": 23,
      "outputs": [
        {
          "output_type": "execute_result",
          "data": {
            "text/plain": [
              "['return', 'elements', 'dataset', 'array', 'driver']"
            ]
          },
          "metadata": {},
          "execution_count": 23
        }
      ]
    },
    {
      "cell_type": "code",
      "source": [
        "# Group By\n",
        "rdd4 = rdd3.groupBy(lambda x: x)\n",
        "rdd4.take(3)"
      ],
      "metadata": {
        "colab": {
          "base_uri": "https://localhost:8080/"
        },
        "id": "5RzhshjEVLNs",
        "outputId": "67a30868-8f8a-41bc-d101-1a16194edb89"
      },
      "execution_count": 24,
      "outputs": [
        {
          "output_type": "execute_result",
          "data": {
            "text/plain": [
              "[('array', <pyspark.resultiterable.ResultIterable at 0x7fa56b732d10>),\n",
              " ('driver', <pyspark.resultiterable.ResultIterable at 0x7fa56b732990>),\n",
              " ('this', <pyspark.resultiterable.ResultIterable at 0x7fa56b732ad0>)]"
            ]
          },
          "metadata": {},
          "execution_count": 24
        }
      ]
    },
    {
      "cell_type": "code",
      "source": [
        "# Reduce Function\n",
        "num_rdd = sc.parallelize(range(1,100))\n",
        "num_rdd.reduce(lambda x, y : x + y)"
      ],
      "metadata": {
        "colab": {
          "base_uri": "https://localhost:8080/"
        },
        "id": "TTumOVQXVLQH",
        "outputId": "85f07b61-66c9-4754-eb94-1c456f522b95"
      },
      "execution_count": 25,
      "outputs": [
        {
          "output_type": "execute_result",
          "data": {
            "text/plain": [
              "4950"
            ]
          },
          "metadata": {},
          "execution_count": 25
        }
      ]
    },
    {
      "cell_type": "code",
      "source": [
        ""
      ],
      "metadata": {
        "id": "u6alf5gaVLSd"
      },
      "execution_count": 25,
      "outputs": []
    },
    {
      "cell_type": "code",
      "source": [
        ""
      ],
      "metadata": {
        "id": "r1NiUaJzVLUe"
      },
      "execution_count": 25,
      "outputs": []
    },
    {
      "cell_type": "code",
      "source": [
        ""
      ],
      "metadata": {
        "id": "I-j3UvhdVLWl"
      },
      "execution_count": 25,
      "outputs": []
    },
    {
      "cell_type": "code",
      "source": [
        ""
      ],
      "metadata": {
        "id": "xLrUWE4JVLYz"
      },
      "execution_count": 25,
      "outputs": []
    },
    {
      "cell_type": "code",
      "source": [
        ""
      ],
      "metadata": {
        "id": "we2RvFkmVLa_"
      },
      "execution_count": 25,
      "outputs": []
    },
    {
      "cell_type": "code",
      "source": [
        ""
      ],
      "metadata": {
        "id": "lWNZOBhOVLdK"
      },
      "execution_count": 25,
      "outputs": []
    },
    {
      "cell_type": "code",
      "source": [
        ""
      ],
      "metadata": {
        "id": "KrPq5RHbVLfD"
      },
      "execution_count": 25,
      "outputs": []
    },
    {
      "cell_type": "code",
      "source": [
        ""
      ],
      "metadata": {
        "id": "g0XBSRjNVLhM"
      },
      "execution_count": 25,
      "outputs": []
    },
    {
      "cell_type": "markdown",
      "source": [
        "# Spark Dataframe"
      ],
      "metadata": {
        "id": "adebC33nMkMd"
      }
    },
    {
      "cell_type": "markdown",
      "source": [
        "## Reading Data"
      ],
      "metadata": {
        "id": "xrHZuNIbxAHS"
      }
    },
    {
      "cell_type": "code",
      "source": [
        "file_path = \"/content/sample_data/california_housing_train.csv\"\n",
        "\n",
        "df = (spark.read\n",
        "      .format('csv')\n",
        "      .options(header='true')\n",
        "      .options(inferSchema='true')\n",
        "      .load(file_path)\n",
        "      )"
      ],
      "metadata": {
        "id": "wtol2s1FlqR5"
      },
      "execution_count": 26,
      "outputs": []
    },
    {
      "cell_type": "code",
      "source": [
        "df.show(2)"
      ],
      "metadata": {
        "colab": {
          "base_uri": "https://localhost:8080/"
        },
        "id": "BNviXFrYmQOh",
        "outputId": "8b0f8e15-38c2-4230-ce99-7e4d24e4aa6b"
      },
      "execution_count": 27,
      "outputs": [
        {
          "output_type": "stream",
          "name": "stdout",
          "text": [
            "+---------+--------+------------------+-----------+--------------+----------+----------+-------------+------------------+\n",
            "|longitude|latitude|housing_median_age|total_rooms|total_bedrooms|population|households|median_income|median_house_value|\n",
            "+---------+--------+------------------+-----------+--------------+----------+----------+-------------+------------------+\n",
            "|  -114.31|   34.19|              15.0|     5612.0|        1283.0|    1015.0|     472.0|       1.4936|           66900.0|\n",
            "|  -114.47|    34.4|              19.0|     7650.0|        1901.0|    1129.0|     463.0|         1.82|           80100.0|\n",
            "+---------+--------+------------------+-----------+--------------+----------+----------+-------------+------------------+\n",
            "only showing top 2 rows\n",
            "\n"
          ]
        }
      ]
    },
    {
      "cell_type": "markdown",
      "source": [
        "## Details About Data"
      ],
      "metadata": {
        "id": "6NUH_p8IxC8H"
      }
    },
    {
      "cell_type": "code",
      "source": [
        "df.printSchema()"
      ],
      "metadata": {
        "colab": {
          "base_uri": "https://localhost:8080/"
        },
        "id": "eDlMgQtinjzr",
        "outputId": "b47dec6c-e75d-45d7-ae1a-cb625035e945"
      },
      "execution_count": 50,
      "outputs": [
        {
          "output_type": "stream",
          "name": "stdout",
          "text": [
            "root\n",
            " |-- longitude: double (nullable = true)\n",
            " |-- latitude: double (nullable = true)\n",
            " |-- housing_median_age: double (nullable = true)\n",
            " |-- total_rooms: double (nullable = true)\n",
            " |-- total_bedrooms: double (nullable = true)\n",
            " |-- population: double (nullable = true)\n",
            " |-- households: double (nullable = true)\n",
            " |-- median_income: double (nullable = true)\n",
            " |-- median_house_value: double (nullable = true)\n",
            "\n"
          ]
        }
      ]
    },
    {
      "cell_type": "code",
      "source": [
        "df.columns"
      ],
      "metadata": {
        "colab": {
          "base_uri": "https://localhost:8080/"
        },
        "id": "XQiUcjkzTMFT",
        "outputId": "3a8694d4-1dc1-4fb4-aa72-d9fe61e9fa29"
      },
      "execution_count": 54,
      "outputs": [
        {
          "output_type": "execute_result",
          "data": {
            "text/plain": [
              "['longitude',\n",
              " 'latitude',\n",
              " 'housing_median_age',\n",
              " 'total_rooms',\n",
              " 'total_bedrooms',\n",
              " 'population',\n",
              " 'households',\n",
              " 'median_income',\n",
              " 'median_house_value']"
            ]
          },
          "metadata": {},
          "execution_count": 54
        }
      ]
    },
    {
      "cell_type": "code",
      "source": [
        "len(df.columns)"
      ],
      "metadata": {
        "colab": {
          "base_uri": "https://localhost:8080/"
        },
        "id": "BrKKXp6UTaDI",
        "outputId": "f4f303a5-8691-4f23-b971-a1ec2c473c7c"
      },
      "execution_count": 55,
      "outputs": [
        {
          "output_type": "execute_result",
          "data": {
            "text/plain": [
              "9"
            ]
          },
          "metadata": {},
          "execution_count": 55
        }
      ]
    },
    {
      "cell_type": "code",
      "source": [
        "df.count()"
      ],
      "metadata": {
        "colab": {
          "base_uri": "https://localhost:8080/"
        },
        "id": "vOEzvSjmb48m",
        "outputId": "ff99efca-372e-4143-fb2e-fa36d6f164c5"
      },
      "execution_count": 29,
      "outputs": [
        {
          "output_type": "execute_result",
          "data": {
            "text/plain": [
              "17000"
            ]
          },
          "metadata": {},
          "execution_count": 29
        }
      ]
    },
    {
      "cell_type": "code",
      "source": [
        "df.describe().show()"
      ],
      "metadata": {
        "colab": {
          "base_uri": "https://localhost:8080/"
        },
        "id": "TpqGJA8xw8_S",
        "outputId": "6bd5b80e-5fb0-4a16-9d01-5eeab5120bc9"
      },
      "execution_count": 30,
      "outputs": [
        {
          "output_type": "stream",
          "name": "stdout",
          "text": [
            "+-------+-------------------+------------------+------------------+-----------------+-----------------+------------------+-----------------+------------------+------------------+\n",
            "|summary|          longitude|          latitude|housing_median_age|      total_rooms|   total_bedrooms|        population|       households|     median_income|median_house_value|\n",
            "+-------+-------------------+------------------+------------------+-----------------+-----------------+------------------+-----------------+------------------+------------------+\n",
            "|  count|              17000|             17000|             17000|            17000|            17000|             17000|            17000|             17000|             17000|\n",
            "|   mean|-119.56210823529375|  35.6252247058827| 28.58935294117647|2643.664411764706|539.4108235294118|1429.5739411764705|501.2219411764706| 3.883578100000021|207300.91235294117|\n",
            "| stddev| 2.0051664084260357|2.1373397946570867|12.586936981660406|2179.947071452777|421.4994515798648| 1147.852959159527|384.5208408559016|1.9081565183791036|115983.76438720895|\n",
            "|    min|            -124.35|             32.54|               1.0|              2.0|              1.0|               3.0|              1.0|            0.4999|           14999.0|\n",
            "|    max|            -114.31|             41.95|              52.0|          37937.0|           6445.0|           35682.0|           6082.0|           15.0001|          500001.0|\n",
            "+-------+-------------------+------------------+------------------+-----------------+-----------------+------------------+-----------------+------------------+------------------+\n",
            "\n"
          ]
        }
      ]
    },
    {
      "cell_type": "code",
      "source": [
        "df.describe('longitude').show()"
      ],
      "metadata": {
        "colab": {
          "base_uri": "https://localhost:8080/"
        },
        "id": "BW-OQSMScBn9",
        "outputId": "e429eb3e-b421-4b9c-db24-0f97730e5ef8"
      },
      "execution_count": 31,
      "outputs": [
        {
          "output_type": "stream",
          "name": "stdout",
          "text": [
            "+-------+-------------------+\n",
            "|summary|          longitude|\n",
            "+-------+-------------------+\n",
            "|  count|              17000|\n",
            "|   mean|-119.56210823529375|\n",
            "| stddev| 2.0051664084260357|\n",
            "|    min|            -124.35|\n",
            "|    max|            -114.31|\n",
            "+-------+-------------------+\n",
            "\n"
          ]
        }
      ]
    },
    {
      "cell_type": "code",
      "source": [
        "df.describe(['longitude', 'latitude']).show()"
      ],
      "metadata": {
        "colab": {
          "base_uri": "https://localhost:8080/"
        },
        "id": "clTH4viDcFqH",
        "outputId": "54e8002f-4d93-430e-9280-66a031c8f9ae"
      },
      "execution_count": 32,
      "outputs": [
        {
          "output_type": "stream",
          "name": "stdout",
          "text": [
            "+-------+-------------------+------------------+\n",
            "|summary|          longitude|          latitude|\n",
            "+-------+-------------------+------------------+\n",
            "|  count|              17000|             17000|\n",
            "|   mean|-119.56210823529375|  35.6252247058827|\n",
            "| stddev| 2.0051664084260357|2.1373397946570867|\n",
            "|    min|            -124.35|             32.54|\n",
            "|    max|            -114.31|             41.95|\n",
            "+-------+-------------------+------------------+\n",
            "\n"
          ]
        }
      ]
    },
    {
      "cell_type": "markdown",
      "source": [
        "## Select Data"
      ],
      "metadata": {
        "id": "HZnubgxKv0k_"
      }
    },
    {
      "cell_type": "code",
      "source": [
        "df.select(\"*\").show(2)"
      ],
      "metadata": {
        "colab": {
          "base_uri": "https://localhost:8080/"
        },
        "id": "q3ivaFuPrMbz",
        "outputId": "3073912e-8dde-4ac9-8648-43427d57e349"
      },
      "execution_count": 33,
      "outputs": [
        {
          "output_type": "stream",
          "name": "stdout",
          "text": [
            "+---------+--------+------------------+-----------+--------------+----------+----------+-------------+------------------+\n",
            "|longitude|latitude|housing_median_age|total_rooms|total_bedrooms|population|households|median_income|median_house_value|\n",
            "+---------+--------+------------------+-----------+--------------+----------+----------+-------------+------------------+\n",
            "|  -114.31|   34.19|              15.0|     5612.0|        1283.0|    1015.0|     472.0|       1.4936|           66900.0|\n",
            "|  -114.47|    34.4|              19.0|     7650.0|        1901.0|    1129.0|     463.0|         1.82|           80100.0|\n",
            "+---------+--------+------------------+-----------+--------------+----------+----------+-------------+------------------+\n",
            "only showing top 2 rows\n",
            "\n"
          ]
        }
      ]
    },
    {
      "cell_type": "code",
      "source": [
        "df.select(\"longitude\", \"latitude\").show(2)"
      ],
      "metadata": {
        "colab": {
          "base_uri": "https://localhost:8080/"
        },
        "id": "ZDTrKSOFuINq",
        "outputId": "639b38e3-4315-4f60-e9ba-6fc2ad192a22"
      },
      "execution_count": 34,
      "outputs": [
        {
          "output_type": "stream",
          "name": "stdout",
          "text": [
            "+---------+--------+\n",
            "|longitude|latitude|\n",
            "+---------+--------+\n",
            "|  -114.31|   34.19|\n",
            "|  -114.47|    34.4|\n",
            "+---------+--------+\n",
            "only showing top 2 rows\n",
            "\n"
          ]
        }
      ]
    },
    {
      "cell_type": "markdown",
      "source": [
        "## Filter Data"
      ],
      "metadata": {
        "id": "WUBniJ0Ivsa6"
      }
    },
    {
      "cell_type": "code",
      "source": [
        "df.where(\"housing_median_age = 15\" and \"total_bedrooms = 129.0\").show(2)"
      ],
      "metadata": {
        "colab": {
          "base_uri": "https://localhost:8080/"
        },
        "id": "EmpzTtLpt3b_",
        "outputId": "91137b66-ac43-4078-8dd5-3562d355ce1b"
      },
      "execution_count": 35,
      "outputs": [
        {
          "output_type": "stream",
          "name": "stdout",
          "text": [
            "+---------+--------+------------------+-----------+--------------+----------+----------+-------------+------------------+\n",
            "|longitude|latitude|housing_median_age|total_rooms|total_bedrooms|population|households|median_income|median_house_value|\n",
            "+---------+--------+------------------+-----------+--------------+----------+----------+-------------+------------------+\n",
            "|  -114.98|   33.82|              15.0|      644.0|         129.0|     137.0|      52.0|       3.2097|           71300.0|\n",
            "|   -118.1|   33.94|              33.0|      639.0|         129.0|     460.0|     118.0|       3.1607|          189000.0|\n",
            "+---------+--------+------------------+-----------+--------------+----------+----------+-------------+------------------+\n",
            "only showing top 2 rows\n",
            "\n"
          ]
        }
      ]
    },
    {
      "cell_type": "code",
      "source": [
        "df.where((\"housing_median_age == 15\") and (\"total_bedrooms <> 129.0\")).show(2)"
      ],
      "metadata": {
        "colab": {
          "base_uri": "https://localhost:8080/"
        },
        "id": "uDf8N0FUu7Zv",
        "outputId": "8a5c9801-5bc3-4889-efd4-11d8425259c1"
      },
      "execution_count": 36,
      "outputs": [
        {
          "output_type": "stream",
          "name": "stdout",
          "text": [
            "+---------+--------+------------------+-----------+--------------+----------+----------+-------------+------------------+\n",
            "|longitude|latitude|housing_median_age|total_rooms|total_bedrooms|population|households|median_income|median_house_value|\n",
            "+---------+--------+------------------+-----------+--------------+----------+----------+-------------+------------------+\n",
            "|  -114.31|   34.19|              15.0|     5612.0|        1283.0|    1015.0|     472.0|       1.4936|           66900.0|\n",
            "|  -114.47|    34.4|              19.0|     7650.0|        1901.0|    1129.0|     463.0|         1.82|           80100.0|\n",
            "+---------+--------+------------------+-----------+--------------+----------+----------+-------------+------------------+\n",
            "only showing top 2 rows\n",
            "\n"
          ]
        }
      ]
    },
    {
      "cell_type": "code",
      "source": [
        "df.where((df.housing_median_age == 15) & (df.total_bedrooms != 129.0)).show(2)"
      ],
      "metadata": {
        "colab": {
          "base_uri": "https://localhost:8080/"
        },
        "id": "Sou9yTaiuj0j",
        "outputId": "8c579d55-8be9-433a-a8fa-8f3e56871ce3"
      },
      "execution_count": 37,
      "outputs": [
        {
          "output_type": "stream",
          "name": "stdout",
          "text": [
            "+---------+--------+------------------+-----------+--------------+----------+----------+-------------+------------------+\n",
            "|longitude|latitude|housing_median_age|total_rooms|total_bedrooms|population|households|median_income|median_house_value|\n",
            "+---------+--------+------------------+-----------+--------------+----------+----------+-------------+------------------+\n",
            "|  -114.31|   34.19|              15.0|     5612.0|        1283.0|    1015.0|     472.0|       1.4936|           66900.0|\n",
            "|  -114.63|   32.76|              15.0|     1448.0|         378.0|     949.0|     300.0|       0.8585|           45000.0|\n",
            "+---------+--------+------------------+-----------+--------------+----------+----------+-------------+------------------+\n",
            "only showing top 2 rows\n",
            "\n"
          ]
        }
      ]
    },
    {
      "cell_type": "code",
      "source": [
        "df.filter((df.housing_median_age == 15) & (df.total_bedrooms != 129.0)).show(2)"
      ],
      "metadata": {
        "colab": {
          "base_uri": "https://localhost:8080/"
        },
        "id": "Ez0AlGp2TVfZ",
        "outputId": "0855ce97-fb68-4ef0-953f-16105495e1e4"
      },
      "execution_count": 38,
      "outputs": [
        {
          "output_type": "stream",
          "name": "stdout",
          "text": [
            "+---------+--------+------------------+-----------+--------------+----------+----------+-------------+------------------+\n",
            "|longitude|latitude|housing_median_age|total_rooms|total_bedrooms|population|households|median_income|median_house_value|\n",
            "+---------+--------+------------------+-----------+--------------+----------+----------+-------------+------------------+\n",
            "|  -114.31|   34.19|              15.0|     5612.0|        1283.0|    1015.0|     472.0|       1.4936|           66900.0|\n",
            "|  -114.63|   32.76|              15.0|     1448.0|         378.0|     949.0|     300.0|       0.8585|           45000.0|\n",
            "+---------+--------+------------------+-----------+--------------+----------+----------+-------------+------------------+\n",
            "only showing top 2 rows\n",
            "\n"
          ]
        }
      ]
    },
    {
      "cell_type": "markdown",
      "source": [
        "## Sort & Order BY"
      ],
      "metadata": {
        "id": "JbZF_-r2YTUH"
      }
    },
    {
      "cell_type": "code",
      "source": [
        "df.orderBy(df.households, ascending=True).show(5)"
      ],
      "metadata": {
        "colab": {
          "base_uri": "https://localhost:8080/"
        },
        "id": "OpaEjkyFYXwN",
        "outputId": "2e433e35-e3b8-4f1b-a692-d0bfc794d3b3"
      },
      "execution_count": 60,
      "outputs": [
        {
          "output_type": "stream",
          "name": "stdout",
          "text": [
            "+---------+--------+------------------+-----------+--------------+----------+----------+-------------+------------------+\n",
            "|longitude|latitude|housing_median_age|total_rooms|total_bedrooms|population|households|median_income|median_house_value|\n",
            "+---------+--------+------------------+-----------+--------------+----------+----------+-------------+------------------+\n",
            "|   -122.5|   37.79|              52.0|        8.0|           1.0|      13.0|       1.0|      15.0001|          500001.0|\n",
            "|  -117.79|   35.21|               4.0|        2.0|           2.0|       6.0|       2.0|        2.375|          137500.0|\n",
            "|  -119.54|   36.51|              36.0|       49.0|           7.0|      28.0|       2.0|        4.625|          162500.0|\n",
            "|  -122.37|    37.6|              26.0|       15.0|           3.0|      11.0|       3.0|        5.048|          350000.0|\n",
            "|  -116.76|   34.14|               4.0|       42.0|          10.0|       9.0|       3.0|        0.536|           42500.0|\n",
            "+---------+--------+------------------+-----------+--------------+----------+----------+-------------+------------------+\n",
            "only showing top 5 rows\n",
            "\n"
          ]
        }
      ]
    },
    {
      "cell_type": "code",
      "source": [
        "df.sort(df.households).show(5)"
      ],
      "metadata": {
        "colab": {
          "base_uri": "https://localhost:8080/"
        },
        "id": "yk5vU2BXYnkZ",
        "outputId": "c7ff7f8e-ebae-458a-dc0d-0c2bee1f8639"
      },
      "execution_count": 62,
      "outputs": [
        {
          "output_type": "stream",
          "name": "stdout",
          "text": [
            "+---------+--------+------------------+-----------+--------------+----------+----------+-------------+------------------+\n",
            "|longitude|latitude|housing_median_age|total_rooms|total_bedrooms|population|households|median_income|median_house_value|\n",
            "+---------+--------+------------------+-----------+--------------+----------+----------+-------------+------------------+\n",
            "|   -122.5|   37.79|              52.0|        8.0|           1.0|      13.0|       1.0|      15.0001|          500001.0|\n",
            "|  -117.79|   35.21|               4.0|        2.0|           2.0|       6.0|       2.0|        2.375|          137500.0|\n",
            "|  -119.54|   36.51|              36.0|       49.0|           7.0|      28.0|       2.0|        4.625|          162500.0|\n",
            "|  -122.37|    37.6|              26.0|       15.0|           3.0|      11.0|       3.0|        5.048|          350000.0|\n",
            "|  -116.76|   34.14|               4.0|       42.0|          10.0|       9.0|       3.0|        0.536|           42500.0|\n",
            "+---------+--------+------------------+-----------+--------------+----------+----------+-------------+------------------+\n",
            "only showing top 5 rows\n",
            "\n"
          ]
        }
      ]
    },
    {
      "cell_type": "code",
      "source": [
        "df.sort((df.households).desc()).show(5)"
      ],
      "metadata": {
        "colab": {
          "base_uri": "https://localhost:8080/"
        },
        "id": "FvTe9VfTYyFf",
        "outputId": "51667cfa-4531-442d-e3d2-a45d3afbc077"
      },
      "execution_count": 65,
      "outputs": [
        {
          "output_type": "stream",
          "name": "stdout",
          "text": [
            "+---------+--------+------------------+-----------+--------------+----------+----------+-------------+------------------+\n",
            "|longitude|latitude|housing_median_age|total_rooms|total_bedrooms|population|households|median_income|median_house_value|\n",
            "+---------+--------+------------------+-----------+--------------+----------+----------+-------------+------------------+\n",
            "|  -121.79|   36.64|              11.0|    32627.0|        6445.0|   28566.0|    6082.0|       2.3087|          118800.0|\n",
            "|  -117.74|   33.89|               4.0|    37937.0|        5471.0|   16122.0|    5189.0|       7.4947|          366300.0|\n",
            "|  -117.78|   34.03|               8.0|    32054.0|        5290.0|   15507.0|    5050.0|       6.0191|          253900.0|\n",
            "|  -117.42|   33.35|              14.0|    25135.0|        4819.0|   35682.0|    4769.0|       2.5729|          134400.0|\n",
            "|  -117.34|   33.98|              10.0|    17286.0|        4952.0|    9851.0|    4616.0|       1.7579|          103400.0|\n",
            "+---------+--------+------------------+-----------+--------------+----------+----------+-------------+------------------+\n",
            "only showing top 5 rows\n",
            "\n"
          ]
        }
      ]
    },
    {
      "cell_type": "markdown",
      "source": [
        "## Aggregate & Group by"
      ],
      "metadata": {
        "id": "PY14uECvwMTl"
      }
    },
    {
      "cell_type": "code",
      "source": [
        "df.agg({\"median_house_value\":\"avg\",\n",
        "        \"median_income\":\"avg\",\n",
        "        \"population\":\"max\",\n",
        "        \"population\":\"min\"\n",
        "        }).show()"
      ],
      "metadata": {
        "colab": {
          "base_uri": "https://localhost:8080/"
        },
        "id": "Mm-fbAtivQze",
        "outputId": "3a8222b2-381b-456c-dc7f-dd2bbe9c45fe"
      },
      "execution_count": 39,
      "outputs": [
        {
          "output_type": "stream",
          "name": "stdout",
          "text": [
            "+------------------+-----------------------+---------------+\n",
            "|avg(median_income)|avg(median_house_value)|min(population)|\n",
            "+------------------+-----------------------+---------------+\n",
            "| 3.883578100000021|     207300.91235294117|            3.0|\n",
            "+------------------+-----------------------+---------------+\n",
            "\n"
          ]
        }
      ]
    },
    {
      "cell_type": "code",
      "source": [
        "df.filter(df.housing_median_age == 15).agg({\"median_house_value\":\"avg\",\n",
        "                                            \"median_income\":\"avg\",\n",
        "                                            \"population\":\"max\",\n",
        "                                            \"population\":\"min\"\n",
        "                                            }).show()"
      ],
      "metadata": {
        "colab": {
          "base_uri": "https://localhost:8080/"
        },
        "id": "US1me0TrROON",
        "outputId": "3a27c291-f797-4e06-9aaf-a0d12328fa96"
      },
      "execution_count": 40,
      "outputs": [
        {
          "output_type": "stream",
          "name": "stdout",
          "text": [
            "+------------------+-----------------------+---------------+\n",
            "|avg(median_income)|avg(median_house_value)|min(population)|\n",
            "+------------------+-----------------------+---------------+\n",
            "| 4.003952644230772|     181031.02403846153|           51.0|\n",
            "+------------------+-----------------------+---------------+\n",
            "\n"
          ]
        }
      ]
    },
    {
      "cell_type": "code",
      "source": [
        "df.where((df.housing_median_age == 15) & (df.total_bedrooms == 129.0)).agg({\"median_house_value\":\"avg\",\n",
        "                                            \"median_income\":\"avg\",\n",
        "                                            \"population\":\"max\",\n",
        "                                            \"population\":\"min\"\n",
        "                                            }).show()"
      ],
      "metadata": {
        "colab": {
          "base_uri": "https://localhost:8080/"
        },
        "id": "12-EGYs6S3Ad",
        "outputId": "3a57152e-884d-41b1-8b1d-db273160ed49"
      },
      "execution_count": 41,
      "outputs": [
        {
          "output_type": "stream",
          "name": "stdout",
          "text": [
            "+------------------+-----------------------+---------------+\n",
            "|avg(median_income)|avg(median_house_value)|min(population)|\n",
            "+------------------+-----------------------+---------------+\n",
            "|            3.2097|                71300.0|          137.0|\n",
            "+------------------+-----------------------+---------------+\n",
            "\n"
          ]
        }
      ]
    },
    {
      "cell_type": "code",
      "source": [
        "(df.groupBy(\"housing_median_age\")\n",
        "    .agg({\"total_rooms\" : 'sum',\"*\" : 'count'})\n",
        "    .orderBy(\"housing_median_age\", ascending= True)).limit(2).show()"
      ],
      "metadata": {
        "colab": {
          "base_uri": "https://localhost:8080/"
        },
        "id": "Bbvst59Twaua",
        "outputId": "23a786d1-d246-4e4c-e0f9-edb7d5d07556"
      },
      "execution_count": 42,
      "outputs": [
        {
          "output_type": "stream",
          "name": "stdout",
          "text": [
            "+------------------+----------------+--------+\n",
            "|housing_median_age|sum(total_rooms)|count(1)|\n",
            "+------------------+----------------+--------+\n",
            "|               1.0|          4316.0|       2|\n",
            "|               2.0|        256618.0|      49|\n",
            "+------------------+----------------+--------+\n",
            "\n"
          ]
        }
      ]
    },
    {
      "cell_type": "code",
      "source": [
        "(df.filter(df.housing_median_age == 15)\n",
        "    .groupBy(\"housing_median_age\")\n",
        "    .agg({\"total_rooms\" : 'sum',\"*\" : 'count'})\n",
        "    .orderBy(\"housing_median_age\", ascending= True)).limit(2).show()"
      ],
      "metadata": {
        "colab": {
          "base_uri": "https://localhost:8080/"
        },
        "id": "Nj6Gw4UkXmRK",
        "outputId": "3abd88c4-1c33-49d9-dd02-3e24d9cd08ba"
      },
      "execution_count": 43,
      "outputs": [
        {
          "output_type": "stream",
          "name": "stdout",
          "text": [
            "+------------------+----------------+--------+\n",
            "|housing_median_age|sum(total_rooms)|count(1)|\n",
            "+------------------+----------------+--------+\n",
            "|              15.0|       1365860.0|     416|\n",
            "+------------------+----------------+--------+\n",
            "\n"
          ]
        }
      ]
    },
    {
      "cell_type": "markdown",
      "source": [
        "## UDF - Not Working - Do More RND "
      ],
      "metadata": {
        "id": "6QOIxZEAZ8Ck"
      }
    },
    {
      "cell_type": "code",
      "source": [
        "'''\n",
        "from pyspark.sql.types import IntegerType\n",
        "from pyspark.sql.functions import udf\n",
        "\n",
        "def roundup(x):\n",
        "  return int(x)\n",
        "\n",
        "roundup_udf = udf(roundup, IntegerType)\n",
        "\n",
        "df.select(roundup_udf(\"median_income\"))\n",
        "'''"
      ],
      "metadata": {
        "colab": {
          "base_uri": "https://localhost:8080/",
          "height": 0
        },
        "id": "9Oxsa1tJZoOw",
        "outputId": "fdad669d-bf14-4c81-d112-5aec37dd1dfb"
      },
      "execution_count": 44,
      "outputs": [
        {
          "output_type": "execute_result",
          "data": {
            "application/vnd.google.colaboratory.intrinsic+json": {
              "type": "string"
            },
            "text/plain": [
              "'\\nfrom pyspark.sql.types import IntegerType\\nfrom pyspark.sql.functions import udf\\n\\ndef roundup(x):\\n  return int(x)\\n\\nroundup_udf = udf(roundup, IntegerType)\\n\\ndf.select(roundup_udf(\"median_income\"))\\n'"
            ]
          },
          "metadata": {},
          "execution_count": 44
        }
      ]
    },
    {
      "cell_type": "code",
      "source": [
        ""
      ],
      "metadata": {
        "id": "430Ri4wtZoRo"
      },
      "execution_count": 44,
      "outputs": []
    },
    {
      "cell_type": "code",
      "source": [
        ""
      ],
      "metadata": {
        "id": "EBwt9H5VZoUI"
      },
      "execution_count": 44,
      "outputs": []
    },
    {
      "cell_type": "code",
      "source": [
        ""
      ],
      "metadata": {
        "id": "EuGoegzzZoWQ"
      },
      "execution_count": 44,
      "outputs": []
    },
    {
      "cell_type": "markdown",
      "source": [
        "# Spark SQL - Do More RND"
      ],
      "metadata": {
        "id": "7oPKZUCccJT8"
      }
    },
    {
      "cell_type": "markdown",
      "source": [
        "## Createing SQL Table"
      ],
      "metadata": {
        "id": "y1SzsOazZvPm"
      }
    },
    {
      "cell_type": "code",
      "source": [
        "df.createOrReplaceTempView('df_sql')"
      ],
      "metadata": {
        "id": "0-4JvmjfZoYb"
      },
      "execution_count": 45,
      "outputs": []
    },
    {
      "cell_type": "code",
      "source": [
        "df.registerTempTable('df_sql2')"
      ],
      "metadata": {
        "id": "T_cTqJCqceNN"
      },
      "execution_count": 46,
      "outputs": []
    },
    {
      "cell_type": "markdown",
      "source": [
        "## Transformation"
      ],
      "metadata": {
        "id": "qBWL5CaFZ0hM"
      }
    },
    {
      "cell_type": "code",
      "source": [
        "spark.sql('select * from df_sql').show(2)"
      ],
      "metadata": {
        "colab": {
          "base_uri": "https://localhost:8080/"
        },
        "id": "WXmNGTQKZoak",
        "outputId": "11ea0549-a8f9-4b5c-a8e9-e40a047a0777"
      },
      "execution_count": 47,
      "outputs": [
        {
          "output_type": "stream",
          "name": "stdout",
          "text": [
            "+---------+--------+------------------+-----------+--------------+----------+----------+-------------+------------------+\n",
            "|longitude|latitude|housing_median_age|total_rooms|total_bedrooms|population|households|median_income|median_house_value|\n",
            "+---------+--------+------------------+-----------+--------------+----------+----------+-------------+------------------+\n",
            "|  -114.31|   34.19|              15.0|     5612.0|        1283.0|    1015.0|     472.0|       1.4936|           66900.0|\n",
            "|  -114.47|    34.4|              19.0|     7650.0|        1901.0|    1129.0|     463.0|         1.82|           80100.0|\n",
            "+---------+--------+------------------+-----------+--------------+----------+----------+-------------+------------------+\n",
            "only showing top 2 rows\n",
            "\n"
          ]
        }
      ]
    },
    {
      "cell_type": "code",
      "source": [
        "spark.sql('select distinct(total_bedrooms) from df_sql').show(5)"
      ],
      "metadata": {
        "id": "MaLpgnT6c08m",
        "colab": {
          "base_uri": "https://localhost:8080/"
        },
        "outputId": "c1c223bd-4cf8-492a-98e2-2a15eaff7672"
      },
      "execution_count": 73,
      "outputs": [
        {
          "output_type": "stream",
          "name": "stdout",
          "text": [
            "+--------------+\n",
            "|total_bedrooms|\n",
            "+--------------+\n",
            "|         496.0|\n",
            "|         692.0|\n",
            "|         596.0|\n",
            "|        1051.0|\n",
            "|         558.0|\n",
            "+--------------+\n",
            "only showing top 5 rows\n",
            "\n"
          ]
        }
      ]
    },
    {
      "cell_type": "code",
      "source": [
        ""
      ],
      "metadata": {
        "id": "jNNiI8NLc0_H"
      },
      "execution_count": 47,
      "outputs": []
    },
    {
      "cell_type": "markdown",
      "source": [
        "# Working"
      ],
      "metadata": {
        "id": "aAYc64jNZp2t"
      }
    },
    {
      "cell_type": "code",
      "source": [
        "df.limit(2).show()"
      ],
      "metadata": {
        "colab": {
          "base_uri": "https://localhost:8080/"
        },
        "id": "BL9zCj7rw2n_",
        "outputId": "9377f231-f3c4-482d-c3a2-8de64c001899"
      },
      "execution_count": 48,
      "outputs": [
        {
          "output_type": "stream",
          "name": "stdout",
          "text": [
            "+---------+--------+------------------+-----------+--------------+----------+----------+-------------+------------------+\n",
            "|longitude|latitude|housing_median_age|total_rooms|total_bedrooms|population|households|median_income|median_house_value|\n",
            "+---------+--------+------------------+-----------+--------------+----------+----------+-------------+------------------+\n",
            "|  -114.31|   34.19|              15.0|     5612.0|        1283.0|    1015.0|     472.0|       1.4936|           66900.0|\n",
            "|  -114.47|    34.4|              19.0|     7650.0|        1901.0|    1129.0|     463.0|         1.82|           80100.0|\n",
            "+---------+--------+------------------+-----------+--------------+----------+----------+-------------+------------------+\n",
            "\n"
          ]
        }
      ]
    },
    {
      "cell_type": "code",
      "source": [
        "df.printSchema()"
      ],
      "metadata": {
        "colab": {
          "base_uri": "https://localhost:8080/"
        },
        "id": "IuCJ5a2_ULyK",
        "outputId": "ca97266b-9c08-49f7-f10e-158c22d4b0c7"
      },
      "execution_count": 49,
      "outputs": [
        {
          "output_type": "stream",
          "name": "stdout",
          "text": [
            "root\n",
            " |-- longitude: double (nullable = true)\n",
            " |-- latitude: double (nullable = true)\n",
            " |-- housing_median_age: double (nullable = true)\n",
            " |-- total_rooms: double (nullable = true)\n",
            " |-- total_bedrooms: double (nullable = true)\n",
            " |-- population: double (nullable = true)\n",
            " |-- households: double (nullable = true)\n",
            " |-- median_income: double (nullable = true)\n",
            " |-- median_house_value: double (nullable = true)\n",
            "\n"
          ]
        }
      ]
    },
    {
      "cell_type": "code",
      "source": [
        ""
      ],
      "metadata": {
        "id": "m4ztGP_TVCt3"
      },
      "execution_count": 49,
      "outputs": []
    },
    {
      "cell_type": "code",
      "source": [
        ""
      ],
      "metadata": {
        "id": "naCXuwZAR_-Z"
      },
      "execution_count": 49,
      "outputs": []
    },
    {
      "cell_type": "code",
      "source": [
        ""
      ],
      "metadata": {
        "id": "5nyye0ZmWuzy"
      },
      "execution_count": 49,
      "outputs": []
    }
  ]
}